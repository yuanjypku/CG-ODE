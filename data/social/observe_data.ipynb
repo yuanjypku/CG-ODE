{
 "cells": [
  {
   "cell_type": "code",
   "execution_count": 10,
   "metadata": {},
   "outputs": [
    {
     "name": "stdout",
     "output_type": "stream",
     "text": [
      "(399, 80, 80) [0 1]\n",
      "(400, 80, 2) 10.66420330557758 -12.195430913597846\n",
      "(80,) 1.0028304266823702\n"
     ]
    }
   ],
   "source": [
    "import numpy as np\n",
    "graphs = np.load('graphs.npy')\n",
    "locations = np.load('locations.npy')\n",
    "popularity = np.load('popularity.npy')\n",
    "\n",
    "print(graphs.shape,np.unique(graphs))\n",
    "print(locations.shape, locations.max(),locations.min())\n",
    "print(popularity.shape, popularity.min())"
   ]
  }
 ],
 "metadata": {
  "kernelspec": {
   "display_name": "Python 3.9.12 ('CG-ODE')",
   "language": "python",
   "name": "python3"
  },
  "language_info": {
   "codemirror_mode": {
    "name": "ipython",
    "version": 3
   },
   "file_extension": ".py",
   "mimetype": "text/x-python",
   "name": "python",
   "nbconvert_exporter": "python",
   "pygments_lexer": "ipython3",
   "version": "3.9.12"
  },
  "orig_nbformat": 4,
  "vscode": {
   "interpreter": {
    "hash": "750fc51f98e438302c054a4afff851f6c7c0606cdf2f72e925190d5e753b0c37"
   }
  }
 },
 "nbformat": 4,
 "nbformat_minor": 2
}
